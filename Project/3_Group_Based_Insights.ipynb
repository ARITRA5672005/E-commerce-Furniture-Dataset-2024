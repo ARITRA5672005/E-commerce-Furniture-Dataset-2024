{
 "cells": [
  {
   "cell_type": "code",
   "execution_count": 1,
   "id": "07ec8266",
   "metadata": {},
   "outputs": [],
   "source": [
    "import pandas as pd\n",
    "\n",
    "# Load the data\n",
    "df = pd.read_csv(r\"C:\\Users\\dasc5\\Downloads\\Ecommerce_customer_reviews_classificatio\\Data\\ecommerce_furniture_dataset_2024.csv\")"
   ]
  },
  {
   "cell_type": "code",
   "execution_count": 2,
   "id": "6e616757",
   "metadata": {},
   "outputs": [
    {
     "data": {
      "text/plain": [
       "tagText\n",
       "+Shipping: $1,097.18     2.000000\n",
       "+Shipping: $1,115.86    13.000000\n",
       "+Shipping: $1,323.31     2.000000\n",
       "+Shipping: $104.89       0.000000\n",
       "+Shipping: $106.05       4.000000\n",
       "                          ...    \n",
       "+Shipping: $88.26       10.000000\n",
       "+Shipping: $92.22        4.000000\n",
       "+Shipping: $94.92        8.000000\n",
       "+Shipping: $97.54        2.000000\n",
       "Free shipping           23.644681\n",
       "Name: sold, Length: 100, dtype: float64"
      ]
     },
     "execution_count": 2,
     "metadata": {},
     "output_type": "execute_result"
    }
   ],
   "source": [
    "# Average Sales by Shipping Type\n",
    "df.groupby('tagText')['sold'].mean()"
   ]
  },
  {
   "cell_type": "code",
   "execution_count": 8,
   "id": "180158a6",
   "metadata": {},
   "outputs": [
    {
     "data": {
      "text/html": [
       "<div>\n",
       "<style scoped>\n",
       "    .dataframe tbody tr th:only-of-type {\n",
       "        vertical-align: middle;\n",
       "    }\n",
       "\n",
       "    .dataframe tbody tr th {\n",
       "        vertical-align: top;\n",
       "    }\n",
       "\n",
       "    .dataframe thead th {\n",
       "        text-align: right;\n",
       "    }\n",
       "</style>\n",
       "<table border=\"1\" class=\"dataframe\">\n",
       "  <thead>\n",
       "    <tr style=\"text-align: right;\">\n",
       "      <th></th>\n",
       "      <th>productTitle</th>\n",
       "      <th>sold</th>\n",
       "    </tr>\n",
       "  </thead>\n",
       "  <tbody>\n",
       "    <tr>\n",
       "      <th>1008</th>\n",
       "      <td>Portable round Folding Chair Accordion Chair H...</td>\n",
       "      <td>10000</td>\n",
       "    </tr>\n",
       "    <tr>\n",
       "      <th>1391</th>\n",
       "      <td>MUMUCC Multifunctional Foldable And Adjustable...</td>\n",
       "      <td>3000</td>\n",
       "    </tr>\n",
       "    <tr>\n",
       "      <th>696</th>\n",
       "      <td>MUMUCC Multifunctional Foldable And Adjustable...</td>\n",
       "      <td>3000</td>\n",
       "    </tr>\n",
       "    <tr>\n",
       "      <th>1021</th>\n",
       "      <td>Stylish Shoe Rack Metal Simple Shoe Shelf Foot...</td>\n",
       "      <td>2000</td>\n",
       "    </tr>\n",
       "    <tr>\n",
       "      <th>1174</th>\n",
       "      <td>Portability Foot Rest Under Desk Footrest Ergo...</td>\n",
       "      <td>1000</td>\n",
       "    </tr>\n",
       "    <tr>\n",
       "      <th>22</th>\n",
       "      <td>Office Furniture Computer Stand 42*26cm Adjust...</td>\n",
       "      <td>1000</td>\n",
       "    </tr>\n",
       "    <tr>\n",
       "      <th>1016</th>\n",
       "      <td>Monitor Stand for 13-32 inches Screens, Dual M...</td>\n",
       "      <td>900</td>\n",
       "    </tr>\n",
       "    <tr>\n",
       "      <th>1511</th>\n",
       "      <td>Portable Folding Telescopic Stool Lightweight ...</td>\n",
       "      <td>900</td>\n",
       "    </tr>\n",
       "    <tr>\n",
       "      <th>693</th>\n",
       "      <td>Portability Foot Rest Under Desk Footrest Ergo...</td>\n",
       "      <td>900</td>\n",
       "    </tr>\n",
       "    <tr>\n",
       "      <th>494</th>\n",
       "      <td>Shoe-shelf Shoerack Multilayer Shoe Rack Shoeb...</td>\n",
       "      <td>700</td>\n",
       "    </tr>\n",
       "  </tbody>\n",
       "</table>\n",
       "</div>"
      ],
      "text/plain": [
       "                                           productTitle   sold\n",
       "1008  Portable round Folding Chair Accordion Chair H...  10000\n",
       "1391  MUMUCC Multifunctional Foldable And Adjustable...   3000\n",
       "696   MUMUCC Multifunctional Foldable And Adjustable...   3000\n",
       "1021  Stylish Shoe Rack Metal Simple Shoe Shelf Foot...   2000\n",
       "1174  Portability Foot Rest Under Desk Footrest Ergo...   1000\n",
       "22    Office Furniture Computer Stand 42*26cm Adjust...   1000\n",
       "1016  Monitor Stand for 13-32 inches Screens, Dual M...    900\n",
       "1511  Portable Folding Telescopic Stool Lightweight ...    900\n",
       "693   Portability Foot Rest Under Desk Footrest Ergo...    900\n",
       "494   Shoe-shelf Shoerack Multilayer Shoe Rack Shoeb...    700"
      ]
     },
     "execution_count": 8,
     "metadata": {},
     "output_type": "execute_result"
    }
   ],
   "source": [
    "# Top 10 Best-Selling Products\n",
    "df.sort_values(by='sold', ascending=False)[['productTitle', 'sold']].head(10)"
   ]
  },
  {
   "cell_type": "code",
   "execution_count": null,
   "id": "8662e581",
   "metadata": {},
   "outputs": [],
   "source": []
  }
 ],
 "metadata": {
  "kernelspec": {
   "display_name": "python_course",
   "language": "python",
   "name": "python3"
  },
  "language_info": {
   "codemirror_mode": {
    "name": "ipython",
    "version": 3
   },
   "file_extension": ".py",
   "mimetype": "text/x-python",
   "name": "python",
   "nbconvert_exporter": "python",
   "pygments_lexer": "ipython3",
   "version": "3.11.11"
  }
 },
 "nbformat": 4,
 "nbformat_minor": 5
}
