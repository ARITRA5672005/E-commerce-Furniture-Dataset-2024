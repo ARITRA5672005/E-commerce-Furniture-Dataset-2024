{
 "cells": [
  {
   "cell_type": "code",
   "execution_count": 1,
   "id": "eb2c7b3a",
   "metadata": {},
   "outputs": [
    {
     "name": "stdout",
     "output_type": "stream",
     "text": [
      "<class 'pandas.core.frame.DataFrame'>\n",
      "RangeIndex: 2000 entries, 0 to 1999\n",
      "Data columns (total 5 columns):\n",
      " #   Column         Non-Null Count  Dtype \n",
      "---  ------         --------------  ----- \n",
      " 0   productTitle   2000 non-null   object\n",
      " 1   originalPrice  487 non-null    object\n",
      " 2   price          2000 non-null   object\n",
      " 3   sold           2000 non-null   int64 \n",
      " 4   tagText        1997 non-null   object\n",
      "dtypes: int64(1), object(4)\n",
      "memory usage: 78.3+ KB\n",
      "None\n",
      "                                        productTitle originalPrice     price  \\\n",
      "0  Dresser For Bedroom With 9 Fabric Drawers Ward...           NaN   $46.79    \n",
      "1  Outdoor Conversation Set 4 Pieces Patio Furnit...           NaN  $169.72    \n",
      "2  Desser For Bedroom With 7 Fabric Drawers Organ...       $78.40    $39.46    \n",
      "3  Modern Accent Boucle Chair,Upholstered Tufted ...           NaN  $111.99    \n",
      "4  Small Unit Simple Computer Desk Household Wood...       $48.82    $21.37    \n",
      "\n",
      "   sold        tagText  \n",
      "0   600  Free shipping  \n",
      "1     0  Free shipping  \n",
      "2     7  Free shipping  \n",
      "3     0  Free shipping  \n",
      "4     1  Free shipping  \n",
      "productTitle        0\n",
      "originalPrice    1513\n",
      "price               0\n",
      "sold                0\n",
      "tagText             3\n",
      "dtype: int64\n"
     ]
    }
   ],
   "source": [
    "import pandas as pd\n",
    "\n",
    "# Load the data\n",
    "df = pd.read_csv(r\"C:\\Users\\dasc5\\Downloads\\Ecommerce_customer_reviews_classificatio\\Data\\ecommerce_furniture_dataset_2024.csv\")\n",
    "\n",
    "# View structure and sample data\n",
    "print(df.info())\n",
    "print(df.head())\n",
    "print(df.isnull().sum())\n"
   ]
  },
  {
   "cell_type": "code",
   "execution_count": 2,
   "id": "5fae89f6",
   "metadata": {},
   "outputs": [],
   "source": [
    "# Drop 'originalPrice' since it has many nulls (or handle as needed)\n",
    "df.drop(['originalPrice'], axis=1, inplace=True)\n",
    "\n",
    "# Clean price column\n",
    "df['price'] = df['price'].replace('[\\$,]', '', regex=True).astype(float)\n",
    "\n",
    "# Clean 'tagText'\n",
    "df['tagText'] = df['tagText'].apply(lambda x: x if x in ['Free shipping', '+Shipping: $5.09'] else 'others')\n"
   ]
  },
  {
   "cell_type": "code",
   "execution_count": null,
   "id": "73049a7f",
   "metadata": {},
   "outputs": [],
   "source": []
  }
 ],
 "metadata": {
  "kernelspec": {
   "display_name": "python_course",
   "language": "python",
   "name": "python3"
  },
  "language_info": {
   "codemirror_mode": {
    "name": "ipython",
    "version": 3
   },
   "file_extension": ".py",
   "mimetype": "text/x-python",
   "name": "python",
   "nbconvert_exporter": "python",
   "pygments_lexer": "ipython3",
   "version": "3.11.11"
  }
 },
 "nbformat": 4,
 "nbformat_minor": 5
}
